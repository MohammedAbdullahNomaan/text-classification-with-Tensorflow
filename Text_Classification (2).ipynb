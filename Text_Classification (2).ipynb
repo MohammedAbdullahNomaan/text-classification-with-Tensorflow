{
 "cells": [
  {
   "cell_type": "code",
   "execution_count": null,
   "id": "452c1857-08a5-4f47-b918-8fa2716e6046",
   "metadata": {},
   "outputs": [],
   "source": [
    "import numpy as np\n",
    "import tensorflow as tf\n",
    "import tensorflow_hub as hub\n",
    "import tensorflow_datasets as tfds"
   ]
  },
  {
   "cell_type": "code",
   "execution_count": null,
   "id": "c9510480-108f-448b-ad55-fbc8b1f23f7e",
   "metadata": {},
   "outputs": [],
   "source": [
    "train_data,val_data,test_data = tfds.load(name = \"imdb_reviews\" , split = ('train' , 'test[:60%]' , 'test[60%:]') ,\n",
    "                                          as_supervised = True )"
   ]
  },
  {
   "cell_type": "code",
   "execution_count": null,
   "id": "359528e4-d622-4b2e-98e8-6445980ec42f",
   "metadata": {},
   "outputs": [],
   "source": [
    "hub_layer = hub.KerasLayer(\"https://kaggle.com/models/google/gnews-swivel/frameworks/TensorFlow2/variations/tf2-preview-20dim/versions/1\", output_shape=[20],\n",
    "                           input_shape=[], dtype=tf.string, trainable=True)\n"
   ]
  },
  {
   "cell_type": "code",
   "execution_count": null,
   "id": "57128b4d-a355-4090-b332-0e9dfc3096e6",
   "metadata": {},
   "outputs": [],
   "source": [
    "model = tf.keras.Sequential()\n",
    "model.add(hub_layer)\n",
    "model.add(tf.keras.layers.Dense(16, activation='relu'))\n",
    "model.add(tf.keras.layers.Dense(1, activation='sigmoid'))\n"
   ]
  },
  {
   "cell_type": "code",
   "execution_count": null,
   "id": "4aa55fd5-678e-4019-a49c-f9691355e30d",
   "metadata": {},
   "outputs": [],
   "source": [
    "model.summary()"
   ]
  },
  {
   "cell_type": "code",
   "execution_count": null,
   "id": "7f167c13-2186-4e48-affd-2b81bcdc1736",
   "metadata": {},
   "outputs": [],
   "source": [
    "model.compile(optimizer = 'adam', loss = tf.losses.BinaryCrossentropy(from_logits=True), metrics=['accuracy'])"
   ]
  },
  {
   "cell_type": "code",
   "execution_count": null,
   "id": "ed551d20-53e1-4172-b116-5e41f5915470",
   "metadata": {},
   "outputs": [],
   "source": [
    "history = model.fit(train_data.shuffle(10000).batch(100), epochs = 20, validation_data=val_data.batch(100), verbose=1)"
   ]
  },
  {
   "cell_type": "code",
   "execution_count": null,
   "id": "869ddcb0-0fdd-4e38-b809-4490797c3464",
   "metadata": {},
   "outputs": [],
   "source": [
    "results = model.evaluate(test_data.batch(100))"
   ]
  },
  {
   "cell_type": "code",
   "execution_count": null,
   "id": "8e974e09-86e0-4648-97a0-a519d33226ff",
   "metadata": {},
   "outputs": [],
   "source": [
    "results"
   ]
  },
  {
   "cell_type": "code",
   "execution_count": null,
   "id": "a098ca01-351d-44a9-80a9-70965658b030",
   "metadata": {},
   "outputs": [],
   "source": []
  }
 ],
 "metadata": {
  "kernelspec": {
   "display_name": "TF",
   "language": "python",
   "name": "python3"
  },
  "language_info": {
   "codemirror_mode": {
    "name": "ipython",
    "version": 3
   },
   "file_extension": ".py",
   "mimetype": "text/x-python",
   "name": "python",
   "nbconvert_exporter": "python",
   "pygments_lexer": "ipython3",
   "version": "3.9.15"
  }
 },
 "nbformat": 4,
 "nbformat_minor": 5
}
